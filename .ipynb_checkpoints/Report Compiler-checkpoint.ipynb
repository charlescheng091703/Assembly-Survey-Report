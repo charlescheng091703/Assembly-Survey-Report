{
 "cells": [
  {
   "cell_type": "code",
   "execution_count": 2,
   "id": "a8807b64",
   "metadata": {
    "scrolled": true
   },
   "outputs": [
    {
     "data": {
      "application/vnd.jupyter.widget-view+json": {
       "model_id": "5d4c10754f65442cb749ec3fc3b278b8",
       "version_major": 2,
       "version_minor": 0
      },
      "text/plain": [
       "VBox(children=(Text(value='', description='Enter module name:', layout=Layout(height='auto', width='auto'), st…"
      ]
     },
     "metadata": {},
     "output_type": "display_data"
    }
   ],
   "source": [
    "from Assembly_Survey_Report import *\n",
    "widgets.VBox([module_name,button,widget_out])"
   ]
  },
  {
   "cell_type": "code",
   "execution_count": null,
   "id": "6f0752d4",
   "metadata": {},
   "outputs": [],
   "source": []
  }
 ],
 "metadata": {
  "kernelspec": {
   "display_name": "Python 3",
   "language": "python",
   "name": "python3"
  },
  "language_info": {
   "codemirror_mode": {
    "name": "ipython",
    "version": 3
   },
   "file_extension": ".py",
   "mimetype": "text/x-python",
   "name": "python",
   "nbconvert_exporter": "python",
   "pygments_lexer": "ipython3",
   "version": "3.8.8"
  }
 },
 "nbformat": 4,
 "nbformat_minor": 5
}
